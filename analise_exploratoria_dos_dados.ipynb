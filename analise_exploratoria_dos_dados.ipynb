{
 "cells": [
  {
   "cell_type": "markdown",
   "id": "1ee3836f",
   "metadata": {},
   "source": [
    "# 1. Medida\n",
    "É o mapeamento de um atributo de uma entidade, esses dados podem ser classificados em:\n",
    "\n",
    "## 1.1 Qualitativa (nonmetric)\n",
    "\n",
    "### 1.1.1 Categórico (nominal): Classificatório\n",
    "\n",
    "OBS: Analisar a frequência das categorias faz sentido."
   ]
  },
  {
   "cell_type": "code",
   "execution_count": 1,
   "id": "fe88e5fe",
   "metadata": {},
   "outputs": [],
   "source": [
    "mulher = 0\n",
    "homem = 1\n",
    "\n",
    "windows = 1\n",
    "linux = 2"
   ]
  },
  {
   "cell_type": "markdown",
   "id": "fc7dfe74",
   "metadata": {},
   "source": [
    "### 1.1.2 Ordinal (podem ser ordenados)"
   ]
  },
  {
   "cell_type": "code",
   "execution_count": 2,
   "id": "a3053e4a",
   "metadata": {},
   "outputs": [],
   "source": [
    "excelente = 5\n",
    "muito_bom = 4\n",
    "bom = 3\n",
    "razoavel = 2\n",
    "ruim = 1"
   ]
  },
  {
   "cell_type": "markdown",
   "id": "c7f811fd",
   "metadata": {},
   "source": [
    "## 1.2 Quantitativa (metric)\n",
    "\n",
    "### 1.2.1 Intervalar\n",
    "Diferença entre 2 pontos em qualquer parte da escala são iguais:\n",
    "- EX: escala de Celsius e Fahrenheit\n",
    "- Não podemos realizar multiplicação e divisão\n",
    "- Usa zero arbitrário (que é diferente de zero absoluto)\n",
    " - Ou seja, o zero não corresponde a inexistência da medida.\n"
   ]
  },
  {
   "cell_type": "code",
   "execution_count": 3,
   "id": "14cd1031",
   "metadata": {},
   "outputs": [],
   "source": [
    "temperatura_graus_celsius = 5\n",
    "temperatura_graus_fahrenheit = 41"
   ]
  },
  {
   "cell_type": "markdown",
   "id": "8d1a3215",
   "metadata": {},
   "source": [
    "### 1.2.2 Escala de razão (ratio)\n",
    "        Idêntica a Intervalar, mas com zero absoluto (zero representa a inexistência da unidade da medida)\n",
    "        Ex: Número de filhos, tempo de vida, número de bug por linha de código, custo, etc."
   ]
  },
  {
   "cell_type": "code",
   "execution_count": 4,
   "id": "a96e8c3b",
   "metadata": {},
   "outputs": [],
   "source": [
    "numero_de_filhos = 3\n",
    "tempo_de_vida_em_anos = 32\n",
    "numero_de_bugs = 0\n",
    "custo_em_reais = 997"
   ]
  },
  {
   "cell_type": "markdown",
   "id": "a2449c20",
   "metadata": {},
   "source": [
    "# 2. Interpretação Quantitativa (Etapas)\n",
    "\n",
    "1. Dados\n",
    "2. Estatística Descritiva\n",
    "3. Redução do conjunto de dados\n",
    "4. Teste de hipótese\n",
    "5. Conclusões"
   ]
  },
  {
   "cell_type": "markdown",
   "id": "5ce1d79d",
   "metadata": {},
   "source": [
    "## Amostra x População\n",
    "\n",
    "**Situação comum**:\tcaracterísticas da população não são conhecidas. Queremos estimar essas características\ta partir das\tamostras.\n",
    "\n",
    "**Estatística** e **probabilidade**\tsão\tusadas para\tdefinir quanta **incerteza aleatória** há em **nossas observações**."
   ]
  },
  {
   "cell_type": "code",
   "execution_count": 5,
   "id": "e0f1cf7e",
   "metadata": {},
   "outputs": [
    {
     "name": "stdout",
     "output_type": "stream",
     "text": [
      "  Product  Price Discount\n",
      "0     ABC    630       No\n",
      "1     DDD    790      Yes\n",
      "2     XYZ    250       No\n",
      "3     AAA    370      Yes\n",
      "4     CCC    880      Yes\n",
      "5     PPP   1250       No\n",
      "6     NNN    550       No\n",
      "7     RRR    700      Yes\n",
      "\n",
      "\n",
      "========== Selecione 3 elementos, n = 3 ==========\n",
      "\n",
      "\n",
      "  Product  Price Discount\n",
      "6     NNN    550       No\n",
      "1     DDD    790      Yes\n",
      "2     XYZ    250       No\n",
      "\n",
      "\n",
      "========== Selecione metade dos elementos do Data Frame, frac = 0.5 ==========\n",
      "\n",
      "\n",
      "  Product  Price Discount\n",
      "1     DDD    790      Yes\n",
      "6     NNN    550       No\n",
      "4     CCC    880      Yes\n",
      "2     XYZ    250       No\n"
     ]
    }
   ],
   "source": [
    "import pandas as pd\n",
    "\n",
    "dados_populacao = {'Product': ['ABC','DDD','XYZ','AAA','CCC','PPP','NNN','RRR'],\n",
    "          'Price': [630,790,250,370,880,1250,550,700],\n",
    "       'Discount': ['No','Yes','No','Yes','Yes','No','No','Yes']\n",
    "        }\n",
    "\n",
    "dados_populacao = pd.DataFrame(dados_populacao, columns = ['Product','Price','Discount'])\n",
    "\n",
    "print (dados_populacao)\n",
    "print(\"\\n\\n========== Selecione 3 elementos, n = 3 ==========\\n\\n\")\n",
    "\n",
    "df_amostra_1 = dados_populacao.sample(n=3, replace = False)\n",
    "print (df_amostra_1)\n",
    "\n",
    "print(\"\\n\\n========== Selecione metade dos elementos do Data Frame, frac = 0.5 ==========\\n\\n\")\n",
    "\n",
    "df_amostra_2 = dados_populacao.sample(frac = 0.5)\n",
    "print (df_amostra_2)"
   ]
  },
  {
   "cell_type": "markdown",
   "id": "f21c192c",
   "metadata": {},
   "source": [
    "# 3. Estatística Descritiva\n",
    "\n",
    "Usada para sumarizar os dados coletados, para descrever\ta distribuição dos seus\tdados pelo seu centro, espalhamento e formato.\n",
    "\n",
    "**Objetivos**:\n",
    "* Ter noção de como os dados estão distribuídos\n",
    "* Entender melhor a natureza dos dados\t\n",
    "* Identificar pontos anormais (possíveis outliers)\t\n",
    "* Apresentação gráfica de aspectos importantes dos dados\t\n",
    "* Identificar dependências entre variáveis"
   ]
  },
  {
   "cell_type": "markdown",
   "id": "02e59221",
   "metadata": {},
   "source": [
    "## 3.1 Outliers\n",
    "\n",
    "Valores muito altos ou muito baixos. Precisam ser analisados para decidir se vão ou não ser mantidos.\n",
    "\n",
    "* **Erro comum**: ignorar os outliers.\n",
    "\n",
    "### 3.1.1 Percentis e Quartis: \n",
    "- 0%, 1%, 2% ... 100%\n",
    " - Ordena as medidas e divide a amostra em 100 partes, cada porcentagem do percentil acessa ao valor correspondente a esse índice dos dados analisados.\n",
    "- Q1: Quartil 1 = Percentil 25%\n",
    "- Q2: Quartil 2 = Percentil 50% (Mediana)\n",
    "- Q3: Quartil 3 = Percentil 75%\n",
    "\n",
    "### 3.1.2 Método de Tukey: Regra para encontrar Outliers\n",
    "* x\t< Q1 - 1,5 IQR ou x > Q3 + 1,5 IQR\t\n",
    "* IQR =\tQ3 – Q1\n",
    "\n",
    "### 3.1.3 Boxplot\n",
    "- O boxplot ou diagrama de caixa é uma ferramenta gráfica que permite visualizar a distribuição e valores discrepantes (outliers) dos dados.\n",
    "- Os outliers são exibidos através da fórmula de Tukey (apresentado acima)\n",
    "- Os dados são ordenados e são apresentados da seguinte forma:\n",
    "    1. Pontos fora do diagrama de caixa, podem aparecer acima ou abaixo, são os outliers.\n",
    "    2. Valor máximo (ignorando os outliers)\n",
    "    3. Q3: Percentil 75% \n",
    "    4. Q2: Percentil 50% (Mediana)\n",
    "    5. Q1: Percentil 25%\n",
    "    6. Valor mínimo (ignorando os outliers)"
   ]
  },
  {
   "cell_type": "code",
   "execution_count": 6,
   "id": "839b2ad2",
   "metadata": {},
   "outputs": [],
   "source": [
    "#      Q1-1.5IQR   Q1  Mediana  Q3   Q3+1.5IQR\n",
    "#                   |-----:-----|\n",
    "#   o      |--------|     :     |--------|    o  o\n",
    "#                   |-----:-----|\n",
    "# outlier           <----------->            outliers\n",
    "#                        IQR"
   ]
  },
  {
   "cell_type": "code",
   "execution_count": 7,
   "id": "0a6cbd6f",
   "metadata": {},
   "outputs": [
    {
     "data": {
      "image/png": "[encoded data removed]",
      "text/plain": [
       "<Figure size 432x288 with 1 Axes>"
      ]
     },
     "metadata": {
      "needs_background": "light"
     },
     "output_type": "display_data"
    }
   ],
   "source": [
    "import pandas as pd\n",
    "import matplotlib.pyplot as plt\n",
    "\n",
    "valores = [1, 1, 2, 4, 4, 4, 5, 5, 6, 7, 13, 14] \n",
    "dados = {'valores':valores}\n",
    "df = pd.DataFrame(dados)\n",
    "\n",
    "plt.boxplot(df)\n",
    "plt.show()"
   ]
  },
  {
   "cell_type": "code",
   "execution_count": 8,
   "id": "8da56175",
   "metadata": {},
   "outputs": [
    {
     "name": "stdout",
     "output_type": "stream",
     "text": [
      "Índices considerados outliers:[10, 11]\n",
      "\n",
      "Data frame sem Outliers:\n",
      "   valores\n",
      "0        1\n",
      "1        1\n",
      "2        2\n",
      "3        4\n",
      "4        4\n",
      "5        4\n",
      "6        5\n",
      "7        5\n",
      "8        6\n",
      "9        7\n"
     ]
    }
   ],
   "source": [
    "def metodo_de_tukey_retorna_indices_dos_outliers(df, variable):\n",
    "    # Recebe dois parâmetros: dataframe & variável de interesse como string\n",
    "    q1 = df[variable].quantile(0.25)\n",
    "    q3 = df[variable].quantile(0.75)\n",
    "    iqr = q3-q1\n",
    "    inner_fence = 1.5*iqr\n",
    "    outer_fence = 3*iqr\n",
    "    \n",
    "    # limites internos\n",
    "    inner_fence_le = q1-inner_fence\n",
    "    inner_fence_ue = q3+inner_fence\n",
    "    \n",
    "    # limites externos\n",
    "    outer_fence_le = q1-outer_fence\n",
    "    outer_fence_ue = q3+outer_fence\n",
    "    \n",
    "    outliers_prob = []\n",
    "    outliers_poss = []\n",
    "    for index, x in enumerate(df[variable]):\n",
    "        if x <= outer_fence_le or x >= outer_fence_ue:\n",
    "            outliers_prob.append(index)\n",
    "    for index, x in enumerate(df[variable]):\n",
    "        if x <= inner_fence_le or x >= inner_fence_ue:\n",
    "            outliers_poss.append(index)\n",
    "    # return outliers_prob, outliers_poss\n",
    "    outliers_set = set(outliers_prob + outliers_poss)\n",
    "    lista_indices_outliers = []\n",
    "    for i in outliers_set:\n",
    "        lista_indices_outliers.append(i)\n",
    "    return(lista_indices_outliers)\n",
    "\n",
    "outliers = metodo_de_tukey_retorna_indices_dos_outliers(df,\"valores\")\n",
    "print(\"Índices considerados outliers:\" + str(outliers))\n",
    "print(\"\\nData frame sem Outliers:\")\n",
    "print(df.drop(outliers))"
   ]
  },
  {
   "cell_type": "markdown",
   "id": "67ff88a6",
   "metadata": {},
   "source": [
    "## 3.2 Índices de Tendência Central\n",
    "\n",
    "Médias são mais sensíveis a Outliers, principalmente com tamanho de conjunto pequeno.\n",
    "\n",
    "* **Média Aritmética**: Usada para distribuições numéricas normais, que têm uma baixa quantidade de valores discrepantes.\n",
    "* **Média Geométrica**: Muito utilizada em situações de acumulação de aumento ou decrescimento percentual.\n",
    "* **Média Harmônica**: Quando trabalhamos com grandezas inversamente proporcionais.\n",
    "        * Ex: velocidade (+ velocidade - tempo)\n",
    "\n",
    "Mediana, Percentis e Moda são resistentes a Outliers, mas perdem informações.\n",
    "\n",
    "* **Mediana**: Geralmente é utilizada para retornar a tendência central para distribuições numéricas distorcidas. Ordena e seleciona o índice do meio (se for ímpar), e a média dos 2 valores centrais (caso seja par).\n",
    "* **Moda**: Útil quando os valores ou as observações não são numéricos, encontra o valor que possui maior frequência.\n",
    "        \n",
    "### Qual métrica utilizar?\n",
    "\n",
    "Tipo de escala | Índice de Tendência Central\n",
    ":-|---:\n",
    "Nominal | Moda\n",
    "Ordinal | Mediana\n",
    "Intervalar e Razão | Simétrico: Média\n",
    "                   | Assimétrico: Mediana\n",
    "                   "
   ]
  },
  {
   "cell_type": "code",
   "execution_count": 9,
   "id": "141e2423",
   "metadata": {},
   "outputs": [
    {
     "name": "stdout",
     "output_type": "stream",
     "text": [
      "Média Aritmétrica: 49.435\n",
      "Mediana: 48.5\n",
      "\n",
      "========== \n",
      "\n",
      "Moda: homem\n",
      "\n",
      "========== \n",
      "\n",
      "Luiz, vai de casa para o trabalho a uma velocidade de 30km/h, na volta, usando o mesmo percurso, devido ao trânsito, faz 20km/h, qual foi sua velocidade média, considerando ida e volta?\n",
      "\n",
      "Média Hermônica: 24.0 Km/h\n",
      "\n",
      "========== \n",
      "\n",
      "Se você investiu por 3 anos, no 1º ano, teve uma valorização de 20%, no 2º ano: 44% e no 3º ano: 33,1%, de quanto foi o rendimento médio anual?\n",
      "\n",
      "Média Geométrica: 32.00% é o rendimento médio anual\n"
     ]
    }
   ],
   "source": [
    "import random\n",
    "import statistics\n",
    " \n",
    "valores = [ random.randint(1, 100) for x in range(1,1001) ]\n",
    "media_aritmetica = statistics.mean(valores)\n",
    "mediana = statistics.median(valores)\n",
    "print(\"Média Aritmétrica: %s\" % media_aritmetica)\n",
    "print(\"Mediana: %s\" % mediana)\n",
    "print(\"\\n========== \\n\")\n",
    "\n",
    "categorias = ['homem','homem','homem', 'mulher']\n",
    "moda = statistics.mode(categorias)\n",
    "print(\"Moda: %s\" % moda)\n",
    "print(\"\\n========== \\n\")\n",
    "\n",
    "print(\"Luiz, vai de casa para o trabalho a uma velocidade de 30km/h, na volta, usando o mesmo percurso, devido ao trânsito, faz 20km/h, qual foi sua velocidade média, considerando ida e volta?\\n\")\n",
    "velocidades = [30, 20]\n",
    "media_harmonica = statistics.harmonic_mean(velocidades)\n",
    "print(\"Média Hermônica: %s Km/h\" % media_harmonica)\n",
    "\n",
    "print(\"\\n========== \\n\")\n",
    "print(\"Se você investiu por 3 anos, no 1º ano, teve uma valorização de 20%, no 2º ano: 44% e no 3º ano: 33,1%, de quanto foi o rendimento médio anual?\\n\")\n",
    "# 100% + rendimento de cada:\n",
    "retorno_investimento = [120, 144, 133.1]\n",
    "media_geometrica = statistics.geometric_mean(retorno_investimento)\n",
    "print(\"Média Geométrica: %.02f%% é o rendimento médio anual\" % (media_geometrica - 100))"
   ]
  },
  {
   "cell_type": "markdown",
   "id": "733656fa",
   "metadata": {},
   "source": [
    "## 3.3 Índices de Dispersão (Variabilidade)\n",
    "\n",
    "- **Range/Intervalo**\t(mínimo\te\tmáximo)\t\n",
    "- **Variância** (quão distante os dados estão da média aritmétrica)\n",
    "    - A **fórmula muda** em caso dos dados serem de uma **amostra ou da população**.\n",
    "    - Quanto mais perto de zero, menor essa variação.\n",
    "- **Desvio padrão** \n",
    "    - A **fórmula muda** em caso dos dados serem de uma **amostra ou da população**.\n",
    "    - Um desvio padrão grande significa que os valores amostrais estão bem distribuídos em torno da média, enquanto que um desvio padrão pequeno indica que eles estão condensados próximos da média. Em poucas palavras, quanto menor o desvio padrão, mais homogênea é a amostra.\n",
    "    - É a raiz quadrada da variância, o resultado fica na mesma ordem de grandeza da medida analisada.\n",
    "- **Coeficiente de variação** (CV)\n",
    "    - Variação dos dados em relação à média aritmética.\n",
    "    - Como o desvio padrão é a variação em torno da média e trabalha apenas com unidades iguais, o coeficiente de variação trabalha com unidades diferentes e utiliza da porcentagem para conseguir fazer a comparação.\n",
    "    - Ex: CV do peso de 30 professores de uma universidade e CV da altura de 30 funcionários em uma indústria.\n",
    "    - Peso e Altura são unidades diferentes, por isso CV se faz necessário, pois por não serem da mesma unidade, não será possível utilizar o desvio padrão para comparar.\n",
    "    - CV = 100 (para deixar em porcentagem) * (desvio padrão / média aritmética)\n",
    "    - **CV < 15%**: \n",
    "          - Dispersão baixa\n",
    "          - Dados homogêneos\n",
    "          - Resultado bem representado pela média aritmética, logo, é melhor para se trabalhar\n",
    "    - **15% <= CV < 30%**: \n",
    "          - Dispersão média\n",
    "          - Dados neutros\n",
    "          - Resultado regular em torno da média aritmética\n",
    "    - **CV >= 30%**: \n",
    "          - Dispersão alta\n",
    "          - Dados heterogênios\n",
    "          - Resultado péssimo em torno da média aritmética\n",
    "- **Percentis**: 0%, 1%, 2% ... 100%\n",
    "    - Ordena as medidas e divide a amostra em 100 partes, cada porcentagem do percentil acessa ao valor correspondente a esse índice dos dados analisados."
   ]
  },
  {
   "cell_type": "code",
   "execution_count": 10,
   "id": "1af2658d",
   "metadata": {},
   "outputs": [
    {
     "name": "stdout",
     "output_type": "stream",
     "text": [
      "Média Aritmétrica: 5.00\n",
      "\n",
      "Variância População (numpy): 4.00\n",
      "Variância População (statistics): 4.00\n",
      "Variância Amostra (statistics): 4.57\n",
      "\n",
      "Desvio Padrão População (numpy): 2.00\n",
      "Desvio Padrão População (statistics): 2.00\n",
      "Desvio Padrão Amostra (statistics): 2.14\n",
      "\n",
      "Percentil min:  2.0\n",
      "Percentil 25:  4.0\n",
      "Percentil 50:  4.5\n",
      "Percentil 75:  5.5\n",
      "Percentil máx:  9.0\n",
      "\n",
      "========== \n",
      "\n",
      "             0\n",
      "count  8.00000\n",
      "mean   5.00000\n",
      "std    2.13809\n",
      "min    2.00000\n",
      "25%    4.00000\n",
      "50%    4.50000\n",
      "75%    5.50000\n",
      "max    9.00000\n"
     ]
    }
   ],
   "source": [
    "import numpy as np \n",
    "import statistics as stats\n",
    "valores = [2, 4, 4, 4, 5, 5, 7, 9] \n",
    "media_aritmetica = np.average(valores)\n",
    "variancia_populacao_np = np.var(valores)\n",
    "variancia_populacao_statistics = stats.pvariance(valores)\n",
    "variancia_amostra_statistics = stats.variance(valores)\n",
    "\n",
    "desvio_padrao_populacao_np = np.std(valores)\n",
    "desvio_padrao_populacao_statistics = stats.pstdev(valores)\n",
    "desvio_padrao_amosta_statistics = stats.stdev(valores)\n",
    "\n",
    "\n",
    "print(\"Média Aritmétrica: %.2f\\n\" % media_aritmetica)\n",
    "print(\"Variância População (numpy): %.2f\" % variancia_populacao_np)\n",
    "print(\"Variância População (statistics): %.2f\" % variancia_populacao_statistics)\n",
    "print(\"Variância Amostra (statistics): %.2f\\n\" % variancia_amostra_statistics)\n",
    "\n",
    "print(\"Desvio Padrão População (numpy): %.2f\" % desvio_padrao_populacao_np)\n",
    "print(\"Desvio Padrão População (statistics): %.2f\" % desvio_padrao_populacao_statistics)\n",
    "print(\"Desvio Padrão Amostra (statistics): %.2f\\n\" % desvio_padrao_amosta_statistics)\n",
    "\n",
    "print(\"Percentil min: \", np.percentile(valores, 0))\n",
    "print(\"Percentil 25: \", np.percentile(valores, 25))\n",
    "print(\"Percentil 50: \", np.percentile(valores, 50))\n",
    "print(\"Percentil 75: \", np.percentile(valores, 75))\n",
    "print(\"Percentil máx: \", np.percentile(valores, 100))\n",
    "\n",
    "print(\"\\n========== \\n\")\n",
    "import pandas as pd \n",
    "df = pd.DataFrame(valores)\n",
    "print(df.describe())\n"
   ]
  },
  {
   "cell_type": "markdown",
   "id": "ccd9572e",
   "metadata": {},
   "source": [
    "#### 3.4 Skewness: Como os dados estão distribuídos?\n",
    "\n",
    "- **skewness = 0** : distribuição normal.\n",
    " - Mais **elementos próximos à média**.\n",
    " - Poucos **elementos distantes da média**\n",
    " - Média = Mediana\n",
    "- **skewness < 0** : Cauda longa para esquerda.\n",
    " - Mais **elementos acima da média**.\n",
    " - Poucos **elementos muito abaixo da média**\n",
    " - Média < Mediana \n",
    " - Média - Mediana = negativo\n",
    "- **skewness > 0** : Cauda longa para a direita.\n",
    " - Mais **elementos abaixo da média**.\n",
    " - Poucos **elementos muito acima da média**\n",
    " - Média > Mediana \n",
    " - Média - Mediana = positivo\n",
    " \n",
    "#### 3.5 Kurtosis: Grau de achatamento da distribuição\n",
    " \n",
    "- **Kurtosis = 3** : Mesocúrtica, igual a de uma distribuição normal. Nem muito alongada, nem muito achatada.\n",
    "- **Kurtosis > 3** : Leptocúrtica, mais alongada (pontiaguda) que a de uma distribuição normal.\n",
    "- **Kurtosis < 3** : Platicúrtica, mais achatada que a de uma distribuição normal.\n"
   ]
  },
  {
   "cell_type": "code",
   "execution_count": 11,
   "id": "4c69995f",
   "metadata": {
    "scrolled": true
   },
   "outputs": [
    {
     "data": {
      "image/png": "[encoded data removed]",
      "text/plain": [
       "<Figure size 432x288 with 1 Axes>"
      ]
     },
     "metadata": {},
     "output_type": "display_data"
    },
    {
     "name": "stdout",
     "output_type": "stream",
     "text": [
      "Skewness próximo à 0: Distribuição Normal\n",
      "Mais elementos próximos à média\n",
      "Poucos elementos distantes da média\n",
      "Skewness: -0.00960\n",
      "Média: 1.19\n",
      "Mediana: 1.20\n",
      "Kurtosis: 3.01\n"
     ]
    },
    {
     "data": {
      "image/png": "[encoded data removed]",
      "text/plain": [
       "<Figure size 432x288 with 1 Axes>"
      ]
     },
     "metadata": {},
     "output_type": "display_data"
    },
    {
     "name": "stdout",
     "output_type": "stream",
     "text": [
      "Skewness < 0\n",
      "Mais elementos acima da média\n",
      "Poucos elementos muito abaixo da média\n",
      "Skewness: -1.88350\n",
      "Média: 0.09\n",
      "Mediana: 0.29\n",
      "Kurtosis: 9.02\n"
     ]
    },
    {
     "data": {
      "image/png": "[encoded data removed]",
      "text/plain": [
       "<Figure size 432x288 with 1 Axes>"
      ]
     },
     "metadata": {},
     "output_type": "display_data"
    },
    {
     "name": "stdout",
     "output_type": "stream",
     "text": [
      "Skewness > 0\n",
      "Mais elementos abaixo da média\n",
      "Poucos elementos muito acima da média\n",
      "Skewness: 4.79365\n",
      "Média: 5.39\n",
      "Mediana: 3.31\n",
      "Kurtosis: 44.47\n"
     ]
    }
   ],
   "source": [
    "%matplotlib inline\n",
    "import numpy as np\n",
    "import pandas as pd\n",
    "from scipy.stats import kurtosis\n",
    "from scipy.stats import skew\n",
    "from scipy.stats import lognorm\n",
    "import matplotlib.pyplot as plt\n",
    "plt.style.use('ggplot')\n",
    "\n",
    "def analises(dados, titulo):\n",
    "    dados = dados[~np.isnan(dados)]\n",
    "    print(titulo)\n",
    "    print(\"Skewness: %.5f\" % (skew(dados)))\n",
    "    print(\"Média: %.2f\" % np.mean(dados))\n",
    "    print(\"Mediana: %.2f\" % np.median(dados))\n",
    "    # fisher = False: cálculo da definição de curtose de Pearson onde o valor de curtose para distribuição normal = 3.\n",
    "    print(\"Kurtosis: %.2f\" % (kurtosis(dados, fisher = False))) \n",
    "    \n",
    "    \n",
    "def cria_histograma(titulo, dados, celulas_histograma):\n",
    "    dados.plot.hist(alpha=0.5, bins=celulas_histograma, grid=True, legend=None)\n",
    "    plt.xlabel(\"Valores\")\n",
    "    plt.ylabel(\"Frequência\")\n",
    "    plt.title(titulo)\n",
    "    plt.show()\n",
    "    analises(dados, titulo)\n",
    "    \n",
    "media, desvio_padrao = 1.2, 1\n",
    "dados = np.random.normal(media, desvio_padrao, 10000)\n",
    "\n",
    "df = pd.DataFrame(dados) # Cria Data Frame para fazer as análises pelo numpy\n",
    "cria_histograma(\"Skewness próximo à 0: Distribuição Normal\\nMais elementos próximos à média\\nPoucos elementos distantes da média\", df.iloc[:,0], 15)\n",
    "\n",
    "df_log = df.apply(np.log)   \n",
    "cria_histograma(\"Skewness < 0\\nMais elementos acima da média\\nPoucos elementos muito abaixo da média\", df_log.iloc[:,0], 15)\n",
    "\n",
    "df_exp = df.apply(np.exp)  \n",
    "cria_histograma(\"Skewness > 0\\nMais elementos abaixo da média\\nPoucos elementos muito acima da média\", df_exp.iloc[:,0], 55)\n"
   ]
  },
  {
   "cell_type": "markdown",
   "id": "121b3dea",
   "metadata": {},
   "source": [
    "# 4. Análise Exploratória com o menor esforço possível\n",
    "\n",
    "- Utilize o describe() do Data Frame do pandas\n",
    "- Crie um relatório através do ProfileReport do pandas_profiling"
   ]
  },
  {
   "cell_type": "code",
   "execution_count": 15,
   "id": "607729c6",
   "metadata": {
    "scrolled": true
   },
   "outputs": [
    {
     "name": "stdout",
     "output_type": "stream",
     "text": [
      "       sepal length (cm)  sepal width (cm)  petal length (cm)  \\\n",
      "count         150.000000        150.000000         150.000000   \n",
      "mean            5.843333          3.057333           3.758000   \n",
      "std             0.828066          0.435866           1.765298   \n",
      "min             4.300000          2.000000           1.000000   \n",
      "25%             5.100000          2.800000           1.600000   \n",
      "50%             5.800000          3.000000           4.350000   \n",
      "75%             6.400000          3.300000           5.100000   \n",
      "max             7.900000          4.400000           6.900000   \n",
      "\n",
      "       petal width (cm)  \n",
      "count        150.000000  \n",
      "mean           1.199333  \n",
      "std            0.762238  \n",
      "min            0.100000  \n",
      "25%            0.300000  \n",
      "50%            1.300000  \n",
      "75%            1.800000  \n",
      "max            2.500000  \n"
     ]
    },
    {
     "data": {
      "application/vnd.jupyter.widget-view+json": {
       "model_id": "44e5d31cd09c418dbffa078594e00b62",
       "version_major": 2,
       "version_minor": 0
      },
      "text/plain": [
       "Summarize dataset:   0%|          | 0/5 [00:00<?, ?it/s]"
      ]
     },
     "metadata": {},
     "output_type": "display_data"
    },
    {
     "data": {
      "application/vnd.jupyter.widget-view+json": {
       "model_id": "754f99495f4947e49297cb9665e42e38",
       "version_major": 2,
       "version_minor": 0
      },
      "text/plain": [
       "Generate report structure:   0%|          | 0/1 [00:00<?, ?it/s]"
      ]
     },
     "metadata": {},
     "output_type": "display_data"
    },
    {
     "data": {
      "application/vnd.jupyter.widget-view+json": {
       "model_id": "7b9cdcef4f7a4dc9b21ab6e322fa185a",
       "version_major": 2,
       "version_minor": 0
      },
      "text/plain": [
       "Render HTML:   0%|          | 0/1 [00:00<?, ?it/s]"
      ]
     },
     "metadata": {},
     "output_type": "display_data"
    },
    {
     "data": {
      "application/vnd.jupyter.widget-view+json": {
       "model_id": "1dc873717cfb431298a87094222955fa",
       "version_major": 2,
       "version_minor": 0
      },
      "text/plain": [
       "Export report to file:   0%|          | 0/1 [00:00<?, ?it/s]"
      ]
     },
     "metadata": {},
     "output_type": "display_data"
    }
   ],
   "source": [
    "# Se a versão pandas_profiling estiver com bug, remova ela e instale essa versão estável\n",
    "# conda uninstall pandas_profiling\n",
    "# conda install -c conda-forge pandas-profiling=3.1.0\n",
    "\n",
    "import pandas_profiling\n",
    "from sklearn.datasets import load_iris\n",
    "import pandas as pd\n",
    "\n",
    "iris = load_iris()\n",
    "target = iris.target \n",
    "names = iris.target_names\n",
    "df = pd.DataFrame(iris.data, columns=iris.feature_names)\n",
    "df['species'] = iris.target\n",
    "df['species'] = df['species'].replace(to_replace= [0, 1, 2], value = ['setosa', 'versicolor', 'virginica'])\n",
    "\n",
    "print(df.describe())\n",
    "\n",
    "relatorio = pandas_profiling.ProfileReport(df)\n",
    "relatorio\n",
    "\n",
    "# Caso queira salvar em um arquivo:\n",
    "# relatorio.to_file(\"analise_exploratoria_iris.html\")"
   ]
  }
 ],
 "metadata": {
  "kernelspec": {
   "display_name": "Python 3 (ipykernel)",
   "language": "python",
   "name": "python3"
  },
  "language_info": {
   "codemirror_mode": {
    "name": "ipython",
    "version": 3
   },
   "file_extension": ".py",
   "mimetype": "text/x-python",
   "name": "python",
   "nbconvert_exporter": "python",
   "pygments_lexer": "ipython3",
   "version": "3.9.12"
  }
 },
 "nbformat": 4,
 "nbformat_minor": 5
}
